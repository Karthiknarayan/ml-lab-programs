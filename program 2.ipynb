{
 "cells": [
  {
   "cell_type": "code",
   "execution_count": 40,
   "id": "1302ae89-6922-4c50-9511-26742c024ae4",
   "metadata": {},
   "outputs": [],
   "source": [
    "import numpy as np\n",
    "import pandas as pd"
   ]
  },
  {
   "cell_type": "code",
   "execution_count": 41,
   "id": "d21da6d9-02bd-4f8e-82e7-fc13d1989879",
   "metadata": {},
   "outputs": [],
   "source": [
    "data=pd.read_csv(r\"C:\\Users\\pshee\\Desktop\\sem 7\\ML LAB\\labset\\Ml_programs_dataset\\dataset\\enjoySport.csv\")"
   ]
  },
  {
   "cell_type": "code",
   "execution_count": 42,
   "id": "ccc66ffa-b95b-42e1-8757-4857b97dafae",
   "metadata": {},
   "outputs": [],
   "source": [
    "concept=np.array(data)[:,:-1]\n",
    "target=np.array(data)[:,-1]"
   ]
  },
  {
   "cell_type": "code",
   "execution_count": 43,
   "id": "5e5a34f2-3880-429b-a02d-65fca9d6b14d",
   "metadata": {},
   "outputs": [
    {
     "data": {
      "text/html": [
       "<div>\n",
       "<style scoped>\n",
       "    .dataframe tbody tr th:only-of-type {\n",
       "        vertical-align: middle;\n",
       "    }\n",
       "\n",
       "    .dataframe tbody tr th {\n",
       "        vertical-align: top;\n",
       "    }\n",
       "\n",
       "    .dataframe thead th {\n",
       "        text-align: right;\n",
       "    }\n",
       "</style>\n",
       "<table border=\"1\" class=\"dataframe\">\n",
       "  <thead>\n",
       "    <tr style=\"text-align: right;\">\n",
       "      <th></th>\n",
       "      <th>sky</th>\n",
       "      <th>airtemp</th>\n",
       "      <th>humidity</th>\n",
       "      <th>wind</th>\n",
       "      <th>water</th>\n",
       "      <th>forcast</th>\n",
       "      <th>enjoysport</th>\n",
       "    </tr>\n",
       "  </thead>\n",
       "  <tbody>\n",
       "    <tr>\n",
       "      <th>0</th>\n",
       "      <td>sunny</td>\n",
       "      <td>warm</td>\n",
       "      <td>normal</td>\n",
       "      <td>strong</td>\n",
       "      <td>warm</td>\n",
       "      <td>same</td>\n",
       "      <td>yes</td>\n",
       "    </tr>\n",
       "    <tr>\n",
       "      <th>1</th>\n",
       "      <td>sunny</td>\n",
       "      <td>warm</td>\n",
       "      <td>high</td>\n",
       "      <td>strong</td>\n",
       "      <td>warm</td>\n",
       "      <td>same</td>\n",
       "      <td>yes</td>\n",
       "    </tr>\n",
       "    <tr>\n",
       "      <th>2</th>\n",
       "      <td>rainy</td>\n",
       "      <td>cold</td>\n",
       "      <td>high</td>\n",
       "      <td>strong</td>\n",
       "      <td>warm</td>\n",
       "      <td>change</td>\n",
       "      <td>no</td>\n",
       "    </tr>\n",
       "    <tr>\n",
       "      <th>3</th>\n",
       "      <td>sunny</td>\n",
       "      <td>warm</td>\n",
       "      <td>high</td>\n",
       "      <td>strong</td>\n",
       "      <td>cool</td>\n",
       "      <td>change</td>\n",
       "      <td>yes</td>\n",
       "    </tr>\n",
       "  </tbody>\n",
       "</table>\n",
       "</div>"
      ],
      "text/plain": [
       "     sky airtemp humidity    wind water forcast enjoysport\n",
       "0  sunny    warm   normal  strong  warm    same        yes\n",
       "1  sunny    warm     high  strong  warm    same        yes\n",
       "2  rainy    cold     high  strong  warm  change         no\n",
       "3  sunny    warm     high  strong  cool  change        yes"
      ]
     },
     "execution_count": 43,
     "metadata": {},
     "output_type": "execute_result"
    }
   ],
   "source": [
    "data"
   ]
  },
  {
   "cell_type": "code",
   "execution_count": 44,
   "id": "942d1b63-e35f-48e9-9f49-8b573f5d06f6",
   "metadata": {},
   "outputs": [
    {
     "data": {
      "text/plain": [
       "array([['sunny', 'warm', 'normal', 'strong', 'warm', 'same'],\n",
       "       ['sunny', 'warm', 'high', 'strong', 'warm', 'same'],\n",
       "       ['rainy', 'cold', 'high', 'strong', 'warm', 'change'],\n",
       "       ['sunny', 'warm', 'high', 'strong', 'cool', 'change']],\n",
       "      dtype=object)"
      ]
     },
     "execution_count": 44,
     "metadata": {},
     "output_type": "execute_result"
    }
   ],
   "source": [
    "concept"
   ]
  },
  {
   "cell_type": "code",
   "execution_count": 45,
   "id": "1c6d9981-f5b4-45db-af1b-38bfb315a147",
   "metadata": {},
   "outputs": [
    {
     "data": {
      "text/plain": [
       "array(['yes', 'yes', 'no', 'yes'], dtype=object)"
      ]
     },
     "execution_count": 45,
     "metadata": {},
     "output_type": "execute_result"
    }
   ],
   "source": [
    "target"
   ]
  },
  {
   "cell_type": "code",
   "execution_count": 46,
   "id": "7460ea54-132c-48b0-9835-d68e477b5d3b",
   "metadata": {},
   "outputs": [],
   "source": [
    "def learn(con,tar):\n",
    "    sh=con[0].copy()\n",
    "    print(\"initialization of specific hypothesis\")\n",
    "    # print(sh)\n",
    "    gh=[['?' for i in range(len(sh))] for i in  range(len(sh))]\n",
    "    print(\"initialization of specific hypothesis\")\n",
    "    # print(gh)\n",
    "    for i, h in enumerate(con):\n",
    "        if tar[i]==\"yes\":\n",
    "            print(\"if its a positive instance\")\n",
    "            for x in range(len(sh)):\n",
    "                if sh[x]!=h[x]:\n",
    "                    sh[x]='?'\n",
    "                    gh[x][x]='?'\n",
    "\n",
    "        if tar[i]==\"no\":\n",
    "            print(\"if its a negative instance\")\n",
    "            for x in range(len(sh)):\n",
    "                if sh[x]!=h[x]:\n",
    "                    gh[x][x]=sh[x]\n",
    "                else:\n",
    "                    pass\n",
    "        \n",
    "        print(\"step{}\".format(i+1))\n",
    "        print(sh)\n",
    "        print(gh)\n",
    "        print(\"\\n\")\n",
    "    indices=[i for i,val in enumerate(gh) if val==['?','?','?','?','?','?']]\n",
    "    for i in indices:\n",
    "        gh.remove(['?','?','?','?','?','?'])\n",
    "    return sh, gh       \n"
   ]
  },
  {
   "cell_type": "code",
   "execution_count": 47,
   "id": "eb24166b-b4be-4308-9eb3-5a412f9d89e4",
   "metadata": {},
   "outputs": [
    {
     "name": "stdout",
     "output_type": "stream",
     "text": [
      "initialization of specific hypothesis\n",
      "initialization of specific hypothesis\n",
      "if its a positive instance\n",
      "step1\n",
      "['sunny' 'warm' 'normal' 'strong' 'warm' 'same']\n",
      "[['?', '?', '?', '?', '?', '?'], ['?', '?', '?', '?', '?', '?'], ['?', '?', '?', '?', '?', '?'], ['?', '?', '?', '?', '?', '?'], ['?', '?', '?', '?', '?', '?'], ['?', '?', '?', '?', '?', '?']]\n",
      "\n",
      "\n",
      "if its a positive instance\n",
      "step2\n",
      "['sunny' 'warm' '?' 'strong' 'warm' 'same']\n",
      "[['?', '?', '?', '?', '?', '?'], ['?', '?', '?', '?', '?', '?'], ['?', '?', '?', '?', '?', '?'], ['?', '?', '?', '?', '?', '?'], ['?', '?', '?', '?', '?', '?'], ['?', '?', '?', '?', '?', '?']]\n",
      "\n",
      "\n",
      "if its a negative instance\n",
      "step3\n",
      "['sunny' 'warm' '?' 'strong' 'warm' 'same']\n",
      "[['sunny', '?', '?', '?', '?', '?'], ['?', 'warm', '?', '?', '?', '?'], ['?', '?', '?', '?', '?', '?'], ['?', '?', '?', '?', '?', '?'], ['?', '?', '?', '?', '?', '?'], ['?', '?', '?', '?', '?', 'same']]\n",
      "\n",
      "\n",
      "if its a positive instance\n",
      "step4\n",
      "['sunny' 'warm' '?' 'strong' '?' '?']\n",
      "[['sunny', '?', '?', '?', '?', '?'], ['?', 'warm', '?', '?', '?', '?'], ['?', '?', '?', '?', '?', '?'], ['?', '?', '?', '?', '?', '?'], ['?', '?', '?', '?', '?', '?'], ['?', '?', '?', '?', '?', '?']]\n",
      "\n",
      "\n"
     ]
    },
    {
     "ename": "NameError",
     "evalue": "name 'fgh' is not defined",
     "output_type": "error",
     "traceback": [
      "\u001b[1;31m---------------------------------------------------------------------------\u001b[0m",
      "\u001b[1;31mNameError\u001b[0m                                 Traceback (most recent call last)",
      "Cell \u001b[1;32mIn[47], line 2\u001b[0m\n\u001b[0;32m      1\u001b[0m fsh,fsh\u001b[38;5;241m=\u001b[39mlearn(concept,target)\n\u001b[1;32m----> 2\u001b[0m \u001b[38;5;28mprint\u001b[39m(\u001b[43mfgh\u001b[49m)\n\u001b[0;32m      3\u001b[0m \u001b[38;5;28mprint\u001b[39m(fsh)\n",
      "\u001b[1;31mNameError\u001b[0m: name 'fgh' is not defined"
     ]
    }
   ],
   "source": [
    "fsh,fsh=learn(concept,target)\n",
    "print(fgh)\n",
    "print(fsh)"
   ]
  },
  {
   "cell_type": "code",
   "execution_count": 17,
   "id": "80f42a84-4649-4f20-af77-48ebb408398a",
   "metadata": {},
   "outputs": [
    {
     "data": {
      "text/plain": [
       "[['?', '?', '?', '?', '?', '?'],\n",
       " ['?', '?', '?', '?', '?', '?'],\n",
       " ['?', '?', '?', '?', '?', '?'],\n",
       " ['?', '?', '?', '?', '?', '?'],\n",
       " ['?', '?', '?', '?', '?', '?'],\n",
       " ['?', '?', '?', '?', '?', '?']]"
      ]
     },
     "execution_count": 17,
     "metadata": {},
     "output_type": "execute_result"
    }
   ],
   "source": []
  },
  {
   "cell_type": "code",
   "execution_count": null,
   "id": "f0fb8edf-8b0e-4c37-8460-ff2ce950a83f",
   "metadata": {},
   "outputs": [],
   "source": []
  }
 ],
 "metadata": {
  "kernelspec": {
   "display_name": "Python 3 (ipykernel)",
   "language": "python",
   "name": "python3"
  },
  "language_info": {
   "codemirror_mode": {
    "name": "ipython",
    "version": 3
   },
   "file_extension": ".py",
   "mimetype": "text/x-python",
   "name": "python",
   "nbconvert_exporter": "python",
   "pygments_lexer": "ipython3",
   "version": "3.12.2"
  }
 },
 "nbformat": 4,
 "nbformat_minor": 5
}
