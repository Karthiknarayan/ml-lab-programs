{
 "cells": [
  {
   "cell_type": "code",
   "execution_count": 1,
   "id": "a5949f5d-92ff-4bca-882d-c28df0782557",
   "metadata": {},
   "outputs": [],
   "source": [
    "import numpy as np\n",
    "import pandas as pd"
   ]
  },
  {
   "cell_type": "code",
   "execution_count": 2,
   "id": "a28e7f0c-20ce-4049-b6c3-eeab8ddb452d",
   "metadata": {},
   "outputs": [],
   "source": [
    "inputs=np.array([[0,0],\n",
    "                 [0,1],\n",
    "                 [1,0],\n",
    "                 [1,1]])\n",
    "expected_output=np.array([0,0,0,1])\n"
   ]
  },
  {
   "cell_type": "code",
   "execution_count": 3,
   "id": "0f20db70-a262-4bad-a97d-ff148ffe790b",
   "metadata": {},
   "outputs": [],
   "source": [
    "w1,w2=1.2,0.6\n",
    "threshold=1\n",
    "bias=-1.0\n",
    "lr=0.5\n"
   ]
  },
  {
   "cell_type": "code",
   "execution_count": 4,
   "id": "964a2349-2fa2-4bbe-9744-b84278f9b46d",
   "metadata": {},
   "outputs": [],
   "source": [
    "def activation_fn(net_inputs):\n",
    "    return 1 if net_inputs>=threshold else 0\n",
    "    "
   ]
  },
  {
   "cell_type": "code",
   "execution_count": 5,
   "id": "c78e2b74-e468-42e8-90e5-b799a5c62f8f",
   "metadata": {},
   "outputs": [],
   "source": [
    "epochs=0\n",
    "while True:\n",
    "    errcnt=0\n",
    "    for i in range(len(inputs)):\n",
    "        net_inputs=w1*inputs[i][0]+bias+w2*inputs[i][1]\n",
    "        output=activation_fn(net_inputs)\n",
    "        error=expected_output[i]-output\n",
    "        if error!=0:\n",
    "            w1+=lr*error*inputs[i][0]\n",
    "            w2+=lr*error*inputs[i][1]\n",
    "            bias=lr*error\n",
    "            errcnt+=1\n",
    "\n",
    "    epochs+=1\n",
    "    if errcnt==0:\n",
    "        break"
   ]
  },
  {
   "cell_type": "code",
   "execution_count": 7,
   "id": "8bdfba7e-d8fc-424f-b1f9-aa8ecf8c0f83",
   "metadata": {},
   "outputs": [
    {
     "name": "stdout",
     "output_type": "stream",
     "text": [
      "training completed in epochs 3\n",
      "\n",
      "w1=1.2 w2=0.6000000000000001 bias=-0.5\n"
     ]
    }
   ],
   "source": [
    "print(f\"training completed in epochs {epochs}\\n\")\n",
    "print(f\"w1={w1} w2={w2} bias={bias}\")"
   ]
  },
  {
   "cell_type": "code",
   "execution_count": 11,
   "id": "0277de0a-8d12-4f59-bcf2-e710808eb9f3",
   "metadata": {},
   "outputs": [
    {
     "name": "stdout",
     "output_type": "stream",
     "text": [
      "input=[0 0] output=0 expected_output=0\n",
      "input=[0 1] output=0 expected_output=0\n",
      "input=[1 0] output=0 expected_output=0\n",
      "input=[1 1] output=1 expected_output=1\n"
     ]
    }
   ],
   "source": [
    "for i in range (len(inputs)):\n",
    "    net_inputs=w1*inputs[i][0]+bias+w2*inputs[i][1]\n",
    "    output=activation_fn(net_inputs)\n",
    "    print(f\"input={inputs[i]} output={output} expected_output={expected_output[i]}\")"
   ]
  },
  {
   "cell_type": "code",
   "execution_count": null,
   "id": "bf2fbac1-fdc3-4ddf-8949-c19fecaad8e1",
   "metadata": {},
   "outputs": [],
   "source": []
  }
 ],
 "metadata": {
  "kernelspec": {
   "display_name": "Python 3 (ipykernel)",
   "language": "python",
   "name": "python3"
  },
  "language_info": {
   "codemirror_mode": {
    "name": "ipython",
    "version": 3
   },
   "file_extension": ".py",
   "mimetype": "text/x-python",
   "name": "python",
   "nbconvert_exporter": "python",
   "pygments_lexer": "ipython3",
   "version": "3.12.2"
  }
 },
 "nbformat": 4,
 "nbformat_minor": 5
}
