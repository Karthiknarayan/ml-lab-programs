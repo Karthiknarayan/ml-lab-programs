{
 "cells": [
  {
   "cell_type": "code",
   "execution_count": 1,
   "id": "96bf0e5c-04c4-44d5-ae4d-65f48440b2e9",
   "metadata": {},
   "outputs": [],
   "source": [
    "import numpy as np\n"
   ]
  },
  {
   "cell_type": "code",
   "execution_count": 2,
   "id": "d3f13702-e942-4e67-bd61-ca9da74ab508",
   "metadata": {},
   "outputs": [],
   "source": [
    "inputs=np.array([[0,0],\n",
    "                 [0,1],\n",
    "                 [1,0],\n",
    "                 [1,1]])\n",
    "expected_outputs=np.array([0,0,0,1])"
   ]
  },
  {
   "cell_type": "code",
   "execution_count": 3,
   "id": "f7a26c51-9951-4cf4-a2bb-32e02d0ebfbe",
   "metadata": {},
   "outputs": [],
   "source": [
    "w1,w2=1.2,0.6\n",
    "threshold=1.0\n",
    "bias=-1.0\n",
    "lr=0.5"
   ]
  },
  {
   "cell_type": "code",
   "execution_count": 6,
   "id": "0435e3e6-c47e-4c9c-ae54-6c35928db077",
   "metadata": {},
   "outputs": [],
   "source": [
    "def activation_function(net_input):\n",
    "    return 1 if net_input>=threshold else 0"
   ]
  },
  {
   "cell_type": "code",
   "execution_count": 7,
   "id": "3f95e0d5-78a2-4eb8-bf11-abf995c24826",
   "metadata": {},
   "outputs": [],
   "source": [
    "epochs=0\n",
    "while True:\n",
    "    errcnt = 0\n",
    "    for i in range(len(inputs)):\n",
    "        net_input = w1 * inputs[i][0] + w2 * inputs[i][1] + bias\n",
    "        output = activation_function(net_input)\n",
    "        error = expected_outputs[i] - output\n",
    "        if error != 0:\n",
    "            w1 += lr * error * inputs[i][0]\n",
    "            w2 += lr * error * inputs[i][1]\n",
    "            bias += lr * error\n",
    "            errcnt += 1\n",
    "    epochs += 1\n",
    "    if errcnt==0:\n",
    "        break"
   ]
  },
  {
   "cell_type": "code",
   "execution_count": 8,
   "id": "429d84b2-26c3-4d0d-a60e-98da37afc99b",
   "metadata": {},
   "outputs": [
    {
     "name": "stdout",
     "output_type": "stream",
     "text": [
      "Training completed in 3 epochs\n",
      "\n"
     ]
    }
   ],
   "source": [
    "print(f\"Training completed in {epochs} epochs\\n\")"
   ]
  },
  {
   "cell_type": "code",
   "execution_count": 11,
   "id": "70fb8142-83de-4f95-9d8c-3ede593d7b3c",
   "metadata": {},
   "outputs": [
    {
     "name": "stdout",
     "output_type": "stream",
     "text": [
      "implementation of perceptron for and logic\n",
      "\n",
      "input=[0 0] output=0  expected=0\n",
      "input=[0 1] output=0  expected=0\n",
      "input=[1 0] output=0  expected=0\n",
      "input=[1 1] output=1  expected=1\n"
     ]
    }
   ],
   "source": [
    "print(\"implementation of perceptron for and logic\\n\")\n",
    "for i in range(len(inputs)):\n",
    "    net_input=w1*inputs[i][0]+w2*inputs[i][1]+bias\n",
    "    output=activation_function(net_input)\n",
    "    print(f\"input={inputs[i]} output={output}  expected={expected_outputs[i]}\")"
   ]
  },
  {
   "cell_type": "code",
   "execution_count": null,
   "id": "bd272bbe-1b3d-4d79-91fb-68cf56796d59",
   "metadata": {},
   "outputs": [],
   "source": []
  }
 ],
 "metadata": {
  "kernelspec": {
   "display_name": "Python 3 (ipykernel)",
   "language": "python",
   "name": "python3"
  },
  "language_info": {
   "codemirror_mode": {
    "name": "ipython",
    "version": 3
   },
   "file_extension": ".py",
   "mimetype": "text/x-python",
   "name": "python",
   "nbconvert_exporter": "python",
   "pygments_lexer": "ipython3",
   "version": "3.12.2"
  }
 },
 "nbformat": 4,
 "nbformat_minor": 5
}
